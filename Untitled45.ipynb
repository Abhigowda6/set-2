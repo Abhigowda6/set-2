{
 "cells": [
  {
   "cell_type": "code",
   "execution_count": 1,
   "id": "f9091b7c-3013-4be5-bef5-a32e04c12ebc",
   "metadata": {},
   "outputs": [
    {
     "name": "stdout",
     "output_type": "stream",
     "text": [
      "{'may', 'oct', 'dec', 'jan', 'feb', 'mar'}\n"
     ]
    }
   ],
   "source": [
    "month1_set={\"jan\",\"feb\",\"dec\",\"mar\"}\n",
    "month2_set={\"may\",\"jan\",\"oct\",\"mar\",}\n",
    "\n",
    "print(month1_set.union(month2_set))"
   ]
  },
  {
   "cell_type": "code",
   "execution_count": 2,
   "id": "d1d23a3c-8698-4478-907c-810548eec29b",
   "metadata": {},
   "outputs": [
    {
     "name": "stdout",
     "output_type": "stream",
     "text": [
      "{'Dec', 'Feb', 'Jan', 'May', 'Mar', 'Oct'}\n"
     ]
    }
   ],
   "source": [
    "month1_set={\"Jan\",\"Feb\",\"Dec\",\"Mar\"}\n",
    "month2_set={\"May\",\"Jan\",\"Oct\",\"Mar\",}\n",
    "\n",
    "print(month1_set.union(month2_set))"
   ]
  },
  {
   "cell_type": "code",
   "execution_count": 7,
   "id": "c7d1d484-b58c-42af-87cb-e6020fed2233",
   "metadata": {},
   "outputs": [
    {
     "name": "stdout",
     "output_type": "stream",
     "text": [
      "{'Mar', 'Jan'}\n"
     ]
    }
   ],
   "source": [
    "month1_set={\"Jan\",\"Feb\",\"Dec\",\"Mar\"}\n",
    "month2_set={\"May\",\"Jan\",\"Oct\",\"Mar\",}\n",
    "\n",
    "print(month1_set & month2_set)"
   ]
  },
  {
   "cell_type": "code",
   "execution_count": 10,
   "id": "95c7177f-bd98-4cf5-8010-f85e90ca6586",
   "metadata": {},
   "outputs": [
    {
     "name": "stdout",
     "output_type": "stream",
     "text": [
      "{'Feb', 'Dec'}\n"
     ]
    }
   ],
   "source": [
    "month1_set={\"Jan\",\"Feb\",\"Dec\",\"Mar\"}\n",
    "month2_set={\"May\",\"Jan\",\"Oct\",\"Mar\",}\n",
    "\n",
    "print(month1_set - month2_set)"
   ]
  },
  {
   "cell_type": "code",
   "execution_count": 11,
   "id": "12d1b655-1861-444f-9906-1add3c0818a7",
   "metadata": {},
   "outputs": [
    {
     "name": "stdout",
     "output_type": "stream",
     "text": [
      "False\n",
      "False\n",
      "False\n"
     ]
    }
   ],
   "source": [
    "month1_set={\"Jan\",\"Feb\",\"Dec\",\"Mar\"}\n",
    "month2_set={\"May\",\"Jan\",\"Oct\",\"Mar\",}\n",
    "\n",
    "print(month1_set > month2_set)\n",
    "print(month1_set < month2_set)\n",
    "print(month1_set == month2_set)"
   ]
  },
  {
   "cell_type": "code",
   "execution_count": null,
   "id": "2a268a07-5526-4e76-82d8-21e581fb5b12",
   "metadata": {},
   "outputs": [],
   "source": []
  },
  {
   "cell_type": "code",
   "execution_count": null,
   "id": "89867d60-4b76-4462-b0e7-8b2f5ca710dd",
   "metadata": {},
   "outputs": [],
   "source": []
  }
 ],
 "metadata": {
  "kernelspec": {
   "display_name": "Python 3 (ipykernel)",
   "language": "python",
   "name": "python3"
  },
  "language_info": {
   "codemirror_mode": {
    "name": "ipython",
    "version": 3
   },
   "file_extension": ".py",
   "mimetype": "text/x-python",
   "name": "python",
   "nbconvert_exporter": "python",
   "pygments_lexer": "ipython3",
   "version": "3.12.4"
  }
 },
 "nbformat": 4,
 "nbformat_minor": 5
}
